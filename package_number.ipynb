{
  "nbformat": 4,
  "nbformat_minor": 0,
  "metadata": {
    "colab": {
      "provenance": [],
      "authorship_tag": "ABX9TyPVqe146uKVH9+IshVRG+Ph",
      "include_colab_link": true
    },
    "kernelspec": {
      "name": "python3",
      "display_name": "Python 3"
    },
    "language_info": {
      "name": "python"
    }
  },
  "cells": [
    {
      "cell_type": "markdown",
      "metadata": {
        "id": "view-in-github",
        "colab_type": "text"
      },
      "source": [
        "<a href=\"https://colab.research.google.com/github/andzagz/Logistic/blob/main/package_number.ipynb\" target=\"_parent\"><img src=\"https://colab.research.google.com/assets/colab-badge.svg\" alt=\"Open In Colab\"/></a>"
      ]
    },
    {
      "cell_type": "code",
      "source": [
        "!pip install pulp"
      ],
      "metadata": {
        "colab": {
          "base_uri": "https://localhost:8080/"
        },
        "id": "rbA7QTBxQAQi",
        "outputId": "96b8e2f3-bcd7-4983-a93c-2408a861c06d"
      },
      "execution_count": null,
      "outputs": [
        {
          "output_type": "stream",
          "name": "stdout",
          "text": [
            "Collecting pulp\n",
            "  Downloading PuLP-2.9.0-py3-none-any.whl.metadata (5.4 kB)\n",
            "Downloading PuLP-2.9.0-py3-none-any.whl (17.7 MB)\n",
            "\u001b[2K   \u001b[90m━━━━━━━━━━━━━━━━━━━━━━━━━━━━━━━━━━━━━━━━\u001b[0m \u001b[32m17.7/17.7 MB\u001b[0m \u001b[31m34.6 MB/s\u001b[0m eta \u001b[36m0:00:00\u001b[0m\n",
            "\u001b[?25hInstalling collected packages: pulp\n",
            "Successfully installed pulp-2.9.0\n"
          ]
        }
      ]
    },
    {
      "cell_type": "code",
      "source": [
        "import pandas as pd\n",
        "import numpy as np\n",
        "\n",
        "# Generate data\n",
        "np.random.seed(0)\n",
        "cubagem_data = pd.DataFrame({\n",
        "    'ID do Pacote': range(1, 101),\n",
        "    'Peso': np.random.uniform(1, 50, 100),\n",
        "    'Altura': np.random.uniform(10, 100, 100),\n",
        "    'Largura': np.random.uniform(10, 100, 100),\n",
        "    'Profundidade': np.random.uniform(10, 100, 100),\n",
        "    'Tipo de Produto': np.random.choice(['Eletrônicos', 'Farmacêuticos', 'Vestuário'], 100),\n",
        "    'Fragilidade': np.random.choice([True, False], 100),\n",
        "    'ID do Veículo': np.random.choice(['V1', 'V2', 'V3'], 100),\n",
        "    'Capacidade do Veículo': np.random.choice([200, 300, 400], 100)\n",
        "})\n",
        "\n",
        "print(cubagem_data['Capacidade do Veículo'])"
      ],
      "metadata": {
        "colab": {
          "base_uri": "https://localhost:8080/"
        },
        "id": "Mhnhys8ySt0R",
        "outputId": "62548089-58e0-43e5-9d7d-9bce955b9d43"
      },
      "execution_count": null,
      "outputs": [
        {
          "output_type": "stream",
          "name": "stdout",
          "text": [
            "0     400\n",
            "1     400\n",
            "2     300\n",
            "3     200\n",
            "4     200\n",
            "     ... \n",
            "95    400\n",
            "96    300\n",
            "97    400\n",
            "98    400\n",
            "99    200\n",
            "Name: Capacidade do Veículo, Length: 100, dtype: int64\n"
          ]
        }
      ]
    },
    {
      "cell_type": "code",
      "source": [
        "# Function to calculate the volume of each package (in m³)\n",
        "cubagem_data['Volume (m³)'] = (cubagem_data['Altura'] * cubagem_data['Largura'] * cubagem_data['Profundidade']) / 1e6\n",
        "\n",
        "# Sum the total weight (kg) and total volume (m³)\n",
        "total_weight = cubagem_data['Peso'].sum()\n",
        "total_volume = cubagem_data['Volume (m³)'].sum()\n",
        "\n",
        "total_weight, total_volume\n"
      ],
      "metadata": {
        "colab": {
          "base_uri": "https://localhost:8080/"
        },
        "id": "R2VTILMpVttU",
        "outputId": "5e66fa9c-8e9c-456e-94fc-c031158bea9e"
      },
      "execution_count": null,
      "outputs": [
        {
          "output_type": "execute_result",
          "data": {
            "text/plain": [
              "(2416.689813611337, 15.923983198391806)"
            ]
          },
          "metadata": {},
          "execution_count": 3
        }
      ]
    },
    {
      "cell_type": "code",
      "source": [
        "# Sum the weight and volume by vehicle\n",
        "cubagem_data['Volume'] = cubagem_data['Altura'] * cubagem_data['Largura'] * cubagem_data['Profundidade'] / 1e6  # Converting to m³\n",
        "\n",
        "# Group by vehicle and sum weight and volume\n",
        "agrupado_veiculos = cubagem_data.groupby('ID do Veículo').agg(\n",
        "    Total_weight=('Peso', 'sum'),\n",
        "    Total_volume=('Volume', 'sum'),\n",
        "    Total_packages=('ID do Pacote', 'count')\n",
        ")\n",
        "\n",
        "agrupado_veiculos\n"
      ],
      "metadata": {
        "colab": {
          "base_uri": "https://localhost:8080/",
          "height": 175
        },
        "id": "-beFv_dbVtA9",
        "outputId": "00edda41-6c51-4217-bc0b-04951fe99266"
      },
      "execution_count": null,
      "outputs": [
        {
          "output_type": "execute_result",
          "data": {
            "text/plain": [
              "               Peso_total  Volume_total  Pacotes_total\n",
              "ID do Veículo                                         \n",
              "V1             777.972935      5.469259             37\n",
              "V2             894.825951      5.820854             35\n",
              "V3             743.890927      4.633871             28"
            ],
            "text/html": [
              "\n",
              "  <div id=\"df-2f8d58a2-931e-417f-b351-aca6651e0cdb\" class=\"colab-df-container\">\n",
              "    <div>\n",
              "<style scoped>\n",
              "    .dataframe tbody tr th:only-of-type {\n",
              "        vertical-align: middle;\n",
              "    }\n",
              "\n",
              "    .dataframe tbody tr th {\n",
              "        vertical-align: top;\n",
              "    }\n",
              "\n",
              "    .dataframe thead th {\n",
              "        text-align: right;\n",
              "    }\n",
              "</style>\n",
              "<table border=\"1\" class=\"dataframe\">\n",
              "  <thead>\n",
              "    <tr style=\"text-align: right;\">\n",
              "      <th></th>\n",
              "      <th>Peso_total</th>\n",
              "      <th>Volume_total</th>\n",
              "      <th>Pacotes_total</th>\n",
              "    </tr>\n",
              "    <tr>\n",
              "      <th>ID do Veículo</th>\n",
              "      <th></th>\n",
              "      <th></th>\n",
              "      <th></th>\n",
              "    </tr>\n",
              "  </thead>\n",
              "  <tbody>\n",
              "    <tr>\n",
              "      <th>V1</th>\n",
              "      <td>777.972935</td>\n",
              "      <td>5.469259</td>\n",
              "      <td>37</td>\n",
              "    </tr>\n",
              "    <tr>\n",
              "      <th>V2</th>\n",
              "      <td>894.825951</td>\n",
              "      <td>5.820854</td>\n",
              "      <td>35</td>\n",
              "    </tr>\n",
              "    <tr>\n",
              "      <th>V3</th>\n",
              "      <td>743.890927</td>\n",
              "      <td>4.633871</td>\n",
              "      <td>28</td>\n",
              "    </tr>\n",
              "  </tbody>\n",
              "</table>\n",
              "</div>\n",
              "    <div class=\"colab-df-buttons\">\n",
              "\n",
              "  <div class=\"colab-df-container\">\n",
              "    <button class=\"colab-df-convert\" onclick=\"convertToInteractive('df-2f8d58a2-931e-417f-b351-aca6651e0cdb')\"\n",
              "            title=\"Convert this dataframe to an interactive table.\"\n",
              "            style=\"display:none;\">\n",
              "\n",
              "  <svg xmlns=\"http://www.w3.org/2000/svg\" height=\"24px\" viewBox=\"0 -960 960 960\">\n",
              "    <path d=\"M120-120v-720h720v720H120Zm60-500h600v-160H180v160Zm220 220h160v-160H400v160Zm0 220h160v-160H400v160ZM180-400h160v-160H180v160Zm440 0h160v-160H620v160ZM180-180h160v-160H180v160Zm440 0h160v-160H620v160Z\"/>\n",
              "  </svg>\n",
              "    </button>\n",
              "\n",
              "  <style>\n",
              "    .colab-df-container {\n",
              "      display:flex;\n",
              "      gap: 12px;\n",
              "    }\n",
              "\n",
              "    .colab-df-convert {\n",
              "      background-color: #E8F0FE;\n",
              "      border: none;\n",
              "      border-radius: 50%;\n",
              "      cursor: pointer;\n",
              "      display: none;\n",
              "      fill: #1967D2;\n",
              "      height: 32px;\n",
              "      padding: 0 0 0 0;\n",
              "      width: 32px;\n",
              "    }\n",
              "\n",
              "    .colab-df-convert:hover {\n",
              "      background-color: #E2EBFA;\n",
              "      box-shadow: 0px 1px 2px rgba(60, 64, 67, 0.3), 0px 1px 3px 1px rgba(60, 64, 67, 0.15);\n",
              "      fill: #174EA6;\n",
              "    }\n",
              "\n",
              "    .colab-df-buttons div {\n",
              "      margin-bottom: 4px;\n",
              "    }\n",
              "\n",
              "    [theme=dark] .colab-df-convert {\n",
              "      background-color: #3B4455;\n",
              "      fill: #D2E3FC;\n",
              "    }\n",
              "\n",
              "    [theme=dark] .colab-df-convert:hover {\n",
              "      background-color: #434B5C;\n",
              "      box-shadow: 0px 1px 3px 1px rgba(0, 0, 0, 0.15);\n",
              "      filter: drop-shadow(0px 1px 2px rgba(0, 0, 0, 0.3));\n",
              "      fill: #FFFFFF;\n",
              "    }\n",
              "  </style>\n",
              "\n",
              "    <script>\n",
              "      const buttonEl =\n",
              "        document.querySelector('#df-2f8d58a2-931e-417f-b351-aca6651e0cdb button.colab-df-convert');\n",
              "      buttonEl.style.display =\n",
              "        google.colab.kernel.accessAllowed ? 'block' : 'none';\n",
              "\n",
              "      async function convertToInteractive(key) {\n",
              "        const element = document.querySelector('#df-2f8d58a2-931e-417f-b351-aca6651e0cdb');\n",
              "        const dataTable =\n",
              "          await google.colab.kernel.invokeFunction('convertToInteractive',\n",
              "                                                    [key], {});\n",
              "        if (!dataTable) return;\n",
              "\n",
              "        const docLinkHtml = 'Like what you see? Visit the ' +\n",
              "          '<a target=\"_blank\" href=https://colab.research.google.com/notebooks/data_table.ipynb>data table notebook</a>'\n",
              "          + ' to learn more about interactive tables.';\n",
              "        element.innerHTML = '';\n",
              "        dataTable['output_type'] = 'display_data';\n",
              "        await google.colab.output.renderOutput(dataTable, element);\n",
              "        const docLink = document.createElement('div');\n",
              "        docLink.innerHTML = docLinkHtml;\n",
              "        element.appendChild(docLink);\n",
              "      }\n",
              "    </script>\n",
              "  </div>\n",
              "\n",
              "\n",
              "<div id=\"df-19a0c952-ca2f-4f6f-bd67-264b388b356b\">\n",
              "  <button class=\"colab-df-quickchart\" onclick=\"quickchart('df-19a0c952-ca2f-4f6f-bd67-264b388b356b')\"\n",
              "            title=\"Suggest charts\"\n",
              "            style=\"display:none;\">\n",
              "\n",
              "<svg xmlns=\"http://www.w3.org/2000/svg\" height=\"24px\"viewBox=\"0 0 24 24\"\n",
              "     width=\"24px\">\n",
              "    <g>\n",
              "        <path d=\"M19 3H5c-1.1 0-2 .9-2 2v14c0 1.1.9 2 2 2h14c1.1 0 2-.9 2-2V5c0-1.1-.9-2-2-2zM9 17H7v-7h2v7zm4 0h-2V7h2v10zm4 0h-2v-4h2v4z\"/>\n",
              "    </g>\n",
              "</svg>\n",
              "  </button>\n",
              "\n",
              "<style>\n",
              "  .colab-df-quickchart {\n",
              "      --bg-color: #E8F0FE;\n",
              "      --fill-color: #1967D2;\n",
              "      --hover-bg-color: #E2EBFA;\n",
              "      --hover-fill-color: #174EA6;\n",
              "      --disabled-fill-color: #AAA;\n",
              "      --disabled-bg-color: #DDD;\n",
              "  }\n",
              "\n",
              "  [theme=dark] .colab-df-quickchart {\n",
              "      --bg-color: #3B4455;\n",
              "      --fill-color: #D2E3FC;\n",
              "      --hover-bg-color: #434B5C;\n",
              "      --hover-fill-color: #FFFFFF;\n",
              "      --disabled-bg-color: #3B4455;\n",
              "      --disabled-fill-color: #666;\n",
              "  }\n",
              "\n",
              "  .colab-df-quickchart {\n",
              "    background-color: var(--bg-color);\n",
              "    border: none;\n",
              "    border-radius: 50%;\n",
              "    cursor: pointer;\n",
              "    display: none;\n",
              "    fill: var(--fill-color);\n",
              "    height: 32px;\n",
              "    padding: 0;\n",
              "    width: 32px;\n",
              "  }\n",
              "\n",
              "  .colab-df-quickchart:hover {\n",
              "    background-color: var(--hover-bg-color);\n",
              "    box-shadow: 0 1px 2px rgba(60, 64, 67, 0.3), 0 1px 3px 1px rgba(60, 64, 67, 0.15);\n",
              "    fill: var(--button-hover-fill-color);\n",
              "  }\n",
              "\n",
              "  .colab-df-quickchart-complete:disabled,\n",
              "  .colab-df-quickchart-complete:disabled:hover {\n",
              "    background-color: var(--disabled-bg-color);\n",
              "    fill: var(--disabled-fill-color);\n",
              "    box-shadow: none;\n",
              "  }\n",
              "\n",
              "  .colab-df-spinner {\n",
              "    border: 2px solid var(--fill-color);\n",
              "    border-color: transparent;\n",
              "    border-bottom-color: var(--fill-color);\n",
              "    animation:\n",
              "      spin 1s steps(1) infinite;\n",
              "  }\n",
              "\n",
              "  @keyframes spin {\n",
              "    0% {\n",
              "      border-color: transparent;\n",
              "      border-bottom-color: var(--fill-color);\n",
              "      border-left-color: var(--fill-color);\n",
              "    }\n",
              "    20% {\n",
              "      border-color: transparent;\n",
              "      border-left-color: var(--fill-color);\n",
              "      border-top-color: var(--fill-color);\n",
              "    }\n",
              "    30% {\n",
              "      border-color: transparent;\n",
              "      border-left-color: var(--fill-color);\n",
              "      border-top-color: var(--fill-color);\n",
              "      border-right-color: var(--fill-color);\n",
              "    }\n",
              "    40% {\n",
              "      border-color: transparent;\n",
              "      border-right-color: var(--fill-color);\n",
              "      border-top-color: var(--fill-color);\n",
              "    }\n",
              "    60% {\n",
              "      border-color: transparent;\n",
              "      border-right-color: var(--fill-color);\n",
              "    }\n",
              "    80% {\n",
              "      border-color: transparent;\n",
              "      border-right-color: var(--fill-color);\n",
              "      border-bottom-color: var(--fill-color);\n",
              "    }\n",
              "    90% {\n",
              "      border-color: transparent;\n",
              "      border-bottom-color: var(--fill-color);\n",
              "    }\n",
              "  }\n",
              "</style>\n",
              "\n",
              "  <script>\n",
              "    async function quickchart(key) {\n",
              "      const quickchartButtonEl =\n",
              "        document.querySelector('#' + key + ' button');\n",
              "      quickchartButtonEl.disabled = true;  // To prevent multiple clicks.\n",
              "      quickchartButtonEl.classList.add('colab-df-spinner');\n",
              "      try {\n",
              "        const charts = await google.colab.kernel.invokeFunction(\n",
              "            'suggestCharts', [key], {});\n",
              "      } catch (error) {\n",
              "        console.error('Error during call to suggestCharts:', error);\n",
              "      }\n",
              "      quickchartButtonEl.classList.remove('colab-df-spinner');\n",
              "      quickchartButtonEl.classList.add('colab-df-quickchart-complete');\n",
              "    }\n",
              "    (() => {\n",
              "      let quickchartButtonEl =\n",
              "        document.querySelector('#df-19a0c952-ca2f-4f6f-bd67-264b388b356b button');\n",
              "      quickchartButtonEl.style.display =\n",
              "        google.colab.kernel.accessAllowed ? 'block' : 'none';\n",
              "    })();\n",
              "  </script>\n",
              "</div>\n",
              "\n",
              "  <div id=\"id_5add3e29-7aac-469b-8a28-4f90ea06d41d\">\n",
              "    <style>\n",
              "      .colab-df-generate {\n",
              "        background-color: #E8F0FE;\n",
              "        border: none;\n",
              "        border-radius: 50%;\n",
              "        cursor: pointer;\n",
              "        display: none;\n",
              "        fill: #1967D2;\n",
              "        height: 32px;\n",
              "        padding: 0 0 0 0;\n",
              "        width: 32px;\n",
              "      }\n",
              "\n",
              "      .colab-df-generate:hover {\n",
              "        background-color: #E2EBFA;\n",
              "        box-shadow: 0px 1px 2px rgba(60, 64, 67, 0.3), 0px 1px 3px 1px rgba(60, 64, 67, 0.15);\n",
              "        fill: #174EA6;\n",
              "      }\n",
              "\n",
              "      [theme=dark] .colab-df-generate {\n",
              "        background-color: #3B4455;\n",
              "        fill: #D2E3FC;\n",
              "      }\n",
              "\n",
              "      [theme=dark] .colab-df-generate:hover {\n",
              "        background-color: #434B5C;\n",
              "        box-shadow: 0px 1px 3px 1px rgba(0, 0, 0, 0.15);\n",
              "        filter: drop-shadow(0px 1px 2px rgba(0, 0, 0, 0.3));\n",
              "        fill: #FFFFFF;\n",
              "      }\n",
              "    </style>\n",
              "    <button class=\"colab-df-generate\" onclick=\"generateWithVariable('agrupado_veiculos')\"\n",
              "            title=\"Generate code using this dataframe.\"\n",
              "            style=\"display:none;\">\n",
              "\n",
              "  <svg xmlns=\"http://www.w3.org/2000/svg\" height=\"24px\"viewBox=\"0 0 24 24\"\n",
              "       width=\"24px\">\n",
              "    <path d=\"M7,19H8.4L18.45,9,17,7.55,7,17.6ZM5,21V16.75L18.45,3.32a2,2,0,0,1,2.83,0l1.4,1.43a1.91,1.91,0,0,1,.58,1.4,1.91,1.91,0,0,1-.58,1.4L9.25,21ZM18.45,9,17,7.55Zm-12,3A5.31,5.31,0,0,0,4.9,8.1,5.31,5.31,0,0,0,1,6.5,5.31,5.31,0,0,0,4.9,4.9,5.31,5.31,0,0,0,6.5,1,5.31,5.31,0,0,0,8.1,4.9,5.31,5.31,0,0,0,12,6.5,5.46,5.46,0,0,0,6.5,12Z\"/>\n",
              "  </svg>\n",
              "    </button>\n",
              "    <script>\n",
              "      (() => {\n",
              "      const buttonEl =\n",
              "        document.querySelector('#id_5add3e29-7aac-469b-8a28-4f90ea06d41d button.colab-df-generate');\n",
              "      buttonEl.style.display =\n",
              "        google.colab.kernel.accessAllowed ? 'block' : 'none';\n",
              "\n",
              "      buttonEl.onclick = () => {\n",
              "        google.colab.notebook.generateWithVariable('agrupado_veiculos');\n",
              "      }\n",
              "      })();\n",
              "    </script>\n",
              "  </div>\n",
              "\n",
              "    </div>\n",
              "  </div>\n"
            ],
            "application/vnd.google.colaboratory.intrinsic+json": {
              "type": "dataframe",
              "variable_name": "agrupado_veiculos",
              "summary": "{\n  \"name\": \"agrupado_veiculos\",\n  \"rows\": 3,\n  \"fields\": [\n    {\n      \"column\": \"ID do Ve\\u00edculo\",\n      \"properties\": {\n        \"dtype\": \"string\",\n        \"num_unique_values\": 3,\n        \"samples\": [\n          \"V1\",\n          \"V2\",\n          \"V3\"\n        ],\n        \"semantic_type\": \"\",\n        \"description\": \"\"\n      }\n    },\n    {\n      \"column\": \"Peso_total\",\n      \"properties\": {\n        \"dtype\": \"number\",\n        \"std\": 79.15974594239485,\n        \"min\": 743.8909270873258,\n        \"max\": 894.8259514244041,\n        \"num_unique_values\": 3,\n        \"samples\": [\n          777.9729350996066,\n          894.8259514244041,\n          743.8909270873258\n        ],\n        \"semantic_type\": \"\",\n        \"description\": \"\"\n      }\n    },\n    {\n      \"column\": \"Volume_total\",\n      \"properties\": {\n        \"dtype\": \"number\",\n        \"std\": 0.609702241009766,\n        \"min\": 4.633870724762849,\n        \"max\": 5.820853779738032,\n        \"num_unique_values\": 3,\n        \"samples\": [\n          5.469258693890925,\n          5.820853779738032,\n          4.633870724762849\n        ],\n        \"semantic_type\": \"\",\n        \"description\": \"\"\n      }\n    },\n    {\n      \"column\": \"Pacotes_total\",\n      \"properties\": {\n        \"dtype\": \"number\",\n        \"std\": 4,\n        \"min\": 28,\n        \"max\": 37,\n        \"num_unique_values\": 3,\n        \"samples\": [\n          37,\n          35,\n          28\n        ],\n        \"semantic_type\": \"\",\n        \"description\": \"\"\n      }\n    }\n  ]\n}"
            }
          },
          "metadata": {},
          "execution_count": 4
        }
      ]
    },
    {
      "cell_type": "code",
      "source": [
        "import numpy as np\n",
        "import pandas as pd\n",
        "from pulp import LpMaximize, LpProblem, LpVariable, lpSum, LpStatus\n",
        "\n",
        "# Data\n",
        "np.random.seed(0)\n",
        "pacotes = list(range(1, 101))  # 100 packages with ID from 1 to 100\n",
        "pesos = np.random.uniform(1, 50, 100)  # Weights between 1 and 50 kg\n",
        "\n",
        "veiculos = ['V1', 'V2', 'V3']\n",
        "capacidade_peso = {'V1': 200, 'V2': 300, 'V3': 400}\n",
        "\n",
        "# Creating the maximization problem\n",
        "prob = LpProblem(\"Maximize_Vehicle_Utilization\", LpMaximize)\n",
        "\n",
        "# Decision variables: x[i][j] = 1 if package i is allocated to vehicle j\n",
        "x = LpVariable.dicts(\"x\", [(i, j) for i in pacotes for j in veiculos], cat=\"Binary\")\n",
        "\n",
        "# Objective function: maximize the number of allocated packages\n",
        "prob += lpSum(x[i, j] for i in pacotes for j in veiculos)\n",
        "\n",
        "# Constraint 1: Total weight in each vehicle must be less than or equal to capacity\n",
        "for j in veiculos:\n",
        "    prob += lpSum(x[i, j] * pesos[i-1] for i in pacotes) <= capacidade_peso[j]\n",
        "\n",
        "# Constraint 2: Each package must be allocated to at most one vehicle\n",
        "for i in pacotes:\n",
        "    prob += lpSum(x[i, j] for j in veiculos) <= 1\n",
        "\n",
        "# Solve the problem\n",
        "prob.solve()\n",
        "\n",
        "# Create the final table with the results\n",
        "resultados = []\n",
        "\n",
        "for i in pacotes:\n",
        "    alocado = False\n",
        "    for j in veiculos:\n",
        "        if x[i, j].value() == 1:\n",
        "            resultados.append([i, pesos[i-1], j])  # Allocated package\n",
        "            alocado = True\n",
        "            break\n",
        "    if not alocado:\n",
        "        resultados.append([i, pesos[i-1], 'Not Allocated'])  # Package not allocated\n",
        "\n",
        "# Create DataFrame with results\n",
        "df_resultado = pd.DataFrame(resultados, columns=['Package ID', 'Weight', 'Allocated Vehicle'])\n",
        "\n",
        "# Sort first by 'Allocated Vehicle' and then by 'Weight' in descending order\n",
        "df_resultado = df_resultado.sort_values(by=['Allocated Vehicle', 'Weight'], ascending=[True, False])\n",
        "\n",
        "# Display the final sorted DataFrame\n",
        "print(df_resultado)\n"
      ],
      "metadata": {
        "colab": {
          "base_uri": "https://localhost:8080/"
        },
        "id": "1-qQRP3kVg1t",
        "outputId": "9b70ec6e-0655-4fb7-9792-c4ca1e8d580a"
      },
      "execution_count": null,
      "outputs": [
        {
          "output_type": "stream",
          "name": "stdout",
          "text": [
            "    ID do Pacote       Peso Veículo Alocado\n",
            "52            53  49.430318     Não Alocado\n",
            "20            21  48.952299     Não Alocado\n",
            "72            73  48.861293     Não Alocado\n",
            "70            71  48.846514     Não Alocado\n",
            "8              9  48.219475     Não Alocado\n",
            "..           ...        ...             ...\n",
            "26            27   8.024311              V3\n",
            "63            64   7.770965              V3\n",
            "47            48   7.317389              V3\n",
            "61            62   6.408382              V3\n",
            "14            15   4.480767              V3\n",
            "\n",
            "[100 rows x 3 columns]\n"
          ]
        }
      ]
    },
    {
      "cell_type": "code",
      "source": [
        "from google.colab import files\n",
        "\n",
        "arquivo_excel = 'df_resultado.xlsx'\n",
        "df_resultado.to_excel(arquivo_excel, index=False, engine='openpyxl')\n",
        "\n",
        "# download\n",
        "files.download(arquivo_excel)\n"
      ],
      "metadata": {
        "colab": {
          "base_uri": "https://localhost:8080/",
          "height": 17
        },
        "id": "SvvdmBDccalt",
        "outputId": "9a7ba4b3-75f8-483b-eec6-c237ce000fdb"
      },
      "execution_count": null,
      "outputs": [
        {
          "output_type": "display_data",
          "data": {
            "text/plain": [
              "<IPython.core.display.Javascript object>"
            ],
            "application/javascript": [
              "\n",
              "    async function download(id, filename, size) {\n",
              "      if (!google.colab.kernel.accessAllowed) {\n",
              "        return;\n",
              "      }\n",
              "      const div = document.createElement('div');\n",
              "      const label = document.createElement('label');\n",
              "      label.textContent = `Downloading \"${filename}\": `;\n",
              "      div.appendChild(label);\n",
              "      const progress = document.createElement('progress');\n",
              "      progress.max = size;\n",
              "      div.appendChild(progress);\n",
              "      document.body.appendChild(div);\n",
              "\n",
              "      const buffers = [];\n",
              "      let downloaded = 0;\n",
              "\n",
              "      const channel = await google.colab.kernel.comms.open(id);\n",
              "      // Send a message to notify the kernel that we're ready.\n",
              "      channel.send({})\n",
              "\n",
              "      for await (const message of channel.messages) {\n",
              "        // Send a message to notify the kernel that we're ready.\n",
              "        channel.send({})\n",
              "        if (message.buffers) {\n",
              "          for (const buffer of message.buffers) {\n",
              "            buffers.push(buffer);\n",
              "            downloaded += buffer.byteLength;\n",
              "            progress.value = downloaded;\n",
              "          }\n",
              "        }\n",
              "      }\n",
              "      const blob = new Blob(buffers, {type: 'application/binary'});\n",
              "      const a = document.createElement('a');\n",
              "      a.href = window.URL.createObjectURL(blob);\n",
              "      a.download = filename;\n",
              "      div.appendChild(a);\n",
              "      a.click();\n",
              "      div.remove();\n",
              "    }\n",
              "  "
            ]
          },
          "metadata": {}
        },
        {
          "output_type": "display_data",
          "data": {
            "text/plain": [
              "<IPython.core.display.Javascript object>"
            ],
            "application/javascript": [
              "download(\"download_0e833cbd-cedf-4948-aad3-cbff93c9433e\", \"df_resultado.xlsx\", 7575)"
            ]
          },
          "metadata": {}
        }
      ]
    },
    {
      "cell_type": "code",
      "source": [
        "# Calculating the total weight capacity occupied in each vehicle\n",
        "capacidade_ocupada = {veiculo: 0 for veiculo in veiculos}\n",
        "\n",
        "for i in pacotes:\n",
        "    for j in veiculos:\n",
        "        if x[i, j].value() == 1:\n",
        "            capacidade_ocupada[j] += pesos[i-1]  # Adding the weight of the allocated package to the vehicle\n",
        "\n",
        "# Displaying the occupied capacity in each vehicle\n",
        "for veiculo, peso_total in capacidade_ocupada.items():\n",
        "    print(f\"Vehicle {veiculo} - Occupied Weight Capacity: {peso_total:.2f} kg\")\n",
        "\n",
        "# Checking remaining capacity\n",
        "for veiculo in veiculos:\n",
        "    capacidade_restante = capacidade_peso[veiculo] - capacidade_ocupada[veiculo]\n",
        "    print(f\"Vehicle {veiculo} - Remaining Capacity: {capacidade_restante:.2f} kg\")\n"
      ],
      "metadata": {
        "colab": {
          "base_uri": "https://localhost:8080/"
        },
        "id": "pimFkrtdjvk5",
        "outputId": "4135240c-d424-4095-a17b-4049a82de3e5"
      },
      "execution_count": null,
      "outputs": [
        {
          "output_type": "stream",
          "name": "stdout",
          "text": [
            "Veículo V1 - Capacidade de Peso Ocupada: 198.17 kg\n",
            "Veículo V2 - Capacidade de Peso Ocupada: 284.38 kg\n",
            "Veículo V3 - Capacidade de Peso Ocupada: 390.19 kg\n",
            "Veículo V1 - Capacidade Restante: 1.83 kg\n",
            "Veículo V2 - Capacidade Restante: 15.62 kg\n",
            "Veículo V3 - Capacidade Restante: 9.81 kg\n"
          ]
        }
      ]
    },
    {
      "cell_type": "code",
      "source": [
        "capacidade_restante = 2416.69-(198.17 +284.38+390.19)\n",
        "print(capacidade_restante)"
      ],
      "metadata": {
        "colab": {
          "base_uri": "https://localhost:8080/"
        },
        "id": "7kw2NaBMtUcK",
        "outputId": "48b09ea7-a27a-41d5-afed-9cb12d03466e"
      },
      "execution_count": null,
      "outputs": [
        {
          "output_type": "stream",
          "name": "stdout",
          "text": [
            "1543.95\n"
          ]
        }
      ]
    },
    {
      "cell_type": "code",
      "source": [
        "from google.colab import files\n",
        "\n",
        "# Create the content for README.md\n",
        "readme_content = \"\"\"\n",
        "# Logistical Load Maximization Project: Packing Analysis\n",
        "\n",
        "## Introduction\n",
        "\n",
        "This project aims to enhance logistical capabilities through the maximization of package load, considering constraints related to fragility and weight of the vehicles.\n",
        "\n",
        "## Project Structure\n",
        "\n",
        "The project consists of a Python script utilizing the `pandas` and `numpy` libraries to perform the following stages:\n",
        "\n",
        "1. **Data Generation**: Random generation of package data.\n",
        "2. **Linear Programming**: Por meio da biblioteca PULP, foram definidas as restrições de peso e fragilidade, bem como o carregamento de cada pacote para um dos veículos.\n",
        "  O problema foi construído em estrutura de Machine Learning, como resolução por maximização.\n",
        "3. **Load**: Exporting the processed data.\n",
        "\n",
        "## Usage\n",
        "\n",
        "1. Clone this repository or download the Python script.\n",
        "2. Run the script in a Python environment.\n",
        "\n",
        "## Features\n",
        "\n",
        "- Data is already generated by the code itself; feel free to substitute it.\n",
        "- Processes and cleans the collected data.\n",
        "\"\"\"\n",
        "\n",
        "# Save the content to a README.md file\n",
        "with open('README-packagenumber.md', 'w') as f:\n",
        "    f.write(readme_content)\n",
        "\n",
        "# Download the README.md file\n",
        "files.download('README-packagenumber.md')\n"
      ],
      "metadata": {
        "id": "_uJ-6BY-tgQ0",
        "colab": {
          "base_uri": "https://localhost:8080/",
          "height": 17
        },
        "outputId": "dedd2da1-8e6a-45f5-aee9-b42d37219444"
      },
      "execution_count": null,
      "outputs": [
        {
          "output_type": "display_data",
          "data": {
            "text/plain": [
              "<IPython.core.display.Javascript object>"
            ],
            "application/javascript": [
              "\n",
              "    async function download(id, filename, size) {\n",
              "      if (!google.colab.kernel.accessAllowed) {\n",
              "        return;\n",
              "      }\n",
              "      const div = document.createElement('div');\n",
              "      const label = document.createElement('label');\n",
              "      label.textContent = `Downloading \"${filename}\": `;\n",
              "      div.appendChild(label);\n",
              "      const progress = document.createElement('progress');\n",
              "      progress.max = size;\n",
              "      div.appendChild(progress);\n",
              "      document.body.appendChild(div);\n",
              "\n",
              "      const buffers = [];\n",
              "      let downloaded = 0;\n",
              "\n",
              "      const channel = await google.colab.kernel.comms.open(id);\n",
              "      // Send a message to notify the kernel that we're ready.\n",
              "      channel.send({})\n",
              "\n",
              "      for await (const message of channel.messages) {\n",
              "        // Send a message to notify the kernel that we're ready.\n",
              "        channel.send({})\n",
              "        if (message.buffers) {\n",
              "          for (const buffer of message.buffers) {\n",
              "            buffers.push(buffer);\n",
              "            downloaded += buffer.byteLength;\n",
              "            progress.value = downloaded;\n",
              "          }\n",
              "        }\n",
              "      }\n",
              "      const blob = new Blob(buffers, {type: 'application/binary'});\n",
              "      const a = document.createElement('a');\n",
              "      a.href = window.URL.createObjectURL(blob);\n",
              "      a.download = filename;\n",
              "      div.appendChild(a);\n",
              "      a.click();\n",
              "      div.remove();\n",
              "    }\n",
              "  "
            ]
          },
          "metadata": {}
        },
        {
          "output_type": "display_data",
          "data": {
            "text/plain": [
              "<IPython.core.display.Javascript object>"
            ],
            "application/javascript": [
              "download(\"download_5e18fe2a-88a2-471e-acfe-64fc25250eb9\", \"README-packagenumber.md\", 1003)"
            ]
          },
          "metadata": {}
        }
      ]
    }
  ]
}